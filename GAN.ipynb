{
  "nbformat": 4,
  "nbformat_minor": 0,
  "metadata": {
    "colab": {
      "name": "Copy of Welcome To Colaboratory",
      "provenance": [],
      "collapsed_sections": [],
      "include_colab_link": true
    },
    "kernelspec": {
      "display_name": "Python 3",
      "name": "python3"
    }
  },
  "cells": [
    {
      "cell_type": "markdown",
      "metadata": {
        "id": "view-in-github",
        "colab_type": "text"
      },
      "source": [
        "<a href=\"https://colab.research.google.com/github/mayhd3/NSF-REU-2021/blob/main/GAN.ipynb\" target=\"_parent\"><img src=\"https://colab.research.google.com/assets/colab-badge.svg\" alt=\"Open In Colab\"/></a>"
      ]
    },
    {
      "cell_type": "code",
      "metadata": {
        "id": "AbvZ-d105LLW"
      },
      "source": [
        "import os\n",
        "\n",
        "if not os.path.exists('Xtst.csv'):\n",
        "  !gdown --id 1wQDp91LC0PBJvJRBTLw1aW51-UN5JOm8\n",
        "if not os.path.exists('Ytr.csv'):\n",
        "  !gdown --id 1ZhPVjXlOttrYRjSRm_IUBZj-Bokswzbn\n",
        "if not os.path.exists('Ytst.csv'):\n",
        "  !gdown --id 10LE7A7yhNkPlk8Zv3dmBjFYwMW9ZKy9_\n",
        "if not os.path.exists('Xtr.csv'):\n",
        "  !gdown --id 1IUcv_OcLX1YKUB1Xw_lYiBK6bnyLxikS\n",
        "if not os.path.exists('cnn1d.zip'):\n",
        "  !curl --remote-name -H 'Accept: application/vnd.github.v3.raw' --location 'https://github.com/mayhd3/NSF-REU-2021/raw/main/cnn1d.zip'"
      ],
      "execution_count": null,
      "outputs": []
    },
    {
      "cell_type": "code",
      "metadata": {
        "colab": {
          "base_uri": "https://localhost:8080/"
        },
        "id": "oKcJ9_rYIpi5",
        "outputId": "f4d2f421-21dd-4c8f-ba95-737abf800964"
      },
      "source": [
        "import pandas as pd\n",
        "from keras.models import Sequential, load_model\n",
        "from keras.layers import Conv1D, MaxPooling1D, Flatten, Dense\n",
        "from keras.optimizers import Adam\n",
        "from sklearn import preprocessing\n",
        "from keras.utils.np_utils import to_categorical\n",
        "\n",
        "Xtr = pd.read_csv(\"Xtr.csv\", sep=',', header=None)\n",
        "Xtst = pd.read_csv(\"Xtst.csv\", sep=',', header=None)\n",
        "Ytr = pd.read_csv(\"Ytr.csv\", sep=',', header=None)\n",
        "Ytst = pd.read_csv(\"Ytst.csv\", sep=',', header=None)\n",
        "\n",
        "scaler = preprocessing.StandardScaler().fit(Xtr)\n",
        "xtr = scaler.transform(Xtr)  \n",
        "xtst = scaler.transform(Xtst)  \n",
        "\n",
        "xtr = xtr.reshape(xtr.shape[0],xtr.shape[1],1)\n",
        "xtst = xtst.reshape(xtst.shape[0],xtst.shape[1],1)\n",
        "\n",
        "print (\"Number of training samples is: \",xtr.shape[0])\n",
        "print (\"Number of test samples is: \",xtst.shape[0])\n",
        "\n",
        "num_classes = 2\n",
        "\n",
        "ytr = to_categorical(Ytr, num_classes)\n",
        "ytst = to_categorical(Ytst, num_classes)\n",
        "\n",
        "model = None\n",
        "if not os.path.exists('cnn1d.zip'):\n",
        "  model = Sequential()\n",
        "  model.add(Conv1D(32, kernel_size=7, activation='relu', input_shape=xtr.shape[1:]))\n",
        "  model.add(MaxPooling1D(pool_size=2))\n",
        "  model.add(Flatten())\n",
        "  model.add(Dense(128, activation='relu'))\n",
        "  model.add(Dense(256, activation='relu'))\n",
        "  model.add(Dense(num_classes, activation='softmax'))    \n",
        "  model.compile(loss='categorical_crossentropy', optimizer=Adam(learning_rate=0.001), metrics=['accuracy'])\n",
        "  model.fit(xtr, ytr, epochs=150, verbose=2, batch_size=128,validation_split=0.3)  #learning_rte\n",
        "  model.save('cnn1d')\n",
        "  !zip -r cnn1d.zip cnn1d\n",
        "\n",
        "else:\n",
        "  if not os.path.exists('cnn1d'):\n",
        "    !unzip cnn1d.zip\n",
        "  model = load_model('cnn1d')"
      ],
      "execution_count": null,
      "outputs": [
        {
          "output_type": "stream",
          "text": [
            "Number of training samples is:  1029085\n",
            "Number of test samples is:  256883\n"
          ],
          "name": "stdout"
        }
      ]
    },
    {
      "cell_type": "code",
      "metadata": {
        "colab": {
          "base_uri": "https://localhost:8080/"
        },
        "id": "aH_kbqCYolaL",
        "outputId": "042884cc-a241-4860-b3a3-0db11e2f70ce"
      },
      "source": [
        "print(\"Evaluation of best performing model:\")\n",
        "model.evaluate(xtst, ytst)"
      ],
      "execution_count": null,
      "outputs": [
        {
          "output_type": "stream",
          "text": [
            "Evaluation of best performing model:\n",
            "8028/8028 [==============================] - 27s 2ms/step - loss: 0.7905 - accuracy: 0.9367\n"
          ],
          "name": "stdout"
        },
        {
          "output_type": "execute_result",
          "data": {
            "text/plain": [
              "[0.7904874682426453, 0.9367416501045227]"
            ]
          },
          "metadata": {
            "tags": []
          },
          "execution_count": 3
        }
      ]
    },
    {
      "cell_type": "code",
      "metadata": {
        "id": "xfYlZAxMom76",
        "colab": {
          "base_uri": "https://localhost:8080/"
        },
        "outputId": "5ef33c99-59b3-448f-a86f-b133e69588f3"
      },
      "source": [
        "import numpy as np\n",
        "\n",
        "def percentiles(x,y,p):\n",
        "  labels = np.argmax(y, axis=1)\n",
        "  totals = [\n",
        "    np.sum( np.compress(labels == label, x, axis=0), axis=1 ).flatten()\n",
        "      for label in range(labels.max()+1)\n",
        "  ]\n",
        "  print([len(total) for total in totals])\n",
        "  return [np.percentile(total, p) for total in totals]\n",
        "\n",
        "print(percentiles(xtr,ytr,10))\n"
      ],
      "execution_count": null,
      "outputs": [
        {
          "output_type": "stream",
          "text": [
            "[514285, 514800]\n",
            "[-20.752298179341157, -27.510753166929373]\n"
          ],
          "name": "stdout"
        }
      ]
    },
    {
      "cell_type": "code",
      "metadata": {
        "id": "wZ-6s2n6-yxI",
        "colab": {
          "base_uri": "https://localhost:8080/"
        },
        "outputId": "84847db5-7817-4de6-d0fb-49a2e7c72f8e"
      },
      "source": [
        "try:\n",
        "  from art.attacks.evasion import FastGradientMethod, Wasserstein\n",
        "  from art.estimators.classification import TensorFlowV2Classifier\n",
        "except ImportError:\n",
        "  !{sys.executable} -m pip install adversarial-robustness-toolbox[Keras]\n",
        "import tensorflow as tf\n",
        "\n",
        "# Train the ART classifier\n",
        "\n",
        "classifier = TensorFlowV2Classifier(\n",
        "    model=model,\n",
        "    nb_classes=2,\n",
        "    input_shape=xtr.shape,\n",
        "    loss_object=tf.keras.losses.CategoricalCrossentropy(\n",
        "      from_logits=False,\n",
        "#      label_smoothing=0,\n",
        "#      axis=-1,\n",
        "#      reduction=\"auto\",\n",
        "      name=\"categorical_crossentropy\"\n",
        "  )\n",
        ")\n",
        "predictions = classifier.predict(xtst)\n",
        "accuracy = np.sum(np.argmax(predictions, axis=1) == np.argmax(ytst, axis=1)) / len(ytst)\n",
        "print(\"Accuracy on benign test examples: {}%\".format(accuracy * 100))\n",
        "\n",
        "# Generate adversarial test examples\n",
        "attack = FastGradientMethod(estimator=classifier, eps=0.2)\n",
        "xtst_adv = attack.generate(x=xtst)\n",
        "\n",
        "# Evaluate the ART classifier on adversarial test examples\n",
        "\n",
        "predictions = classifier.predict(xtst_adv)\n",
        "accuracy = np.sum(np.argmax(predictions, axis=1) == np.argmax(ytst, axis=1)) / len(ytst)\n",
        "print(\"Accuracy on adversarial test examples: {}%\".format(accuracy * 100))"
      ],
      "execution_count": null,
      "outputs": [
        {
          "output_type": "stream",
          "text": [
            "Accuracy on benign test examples: 93.67416294577687%\n",
            "Accuracy on adversarial test examples: 66.14684506175963%\n"
          ],
          "name": "stdout"
        }
      ]
    }
  ]
}