{
  "nbformat": 4,
  "nbformat_minor": 0,
  "metadata": {
    "colab": {
      "name": "Welcome To Colaboratory",
      "provenance": [],
      "collapsed_sections": [],
      "include_colab_link": true
    },
    "kernelspec": {
      "display_name": "Python 3",
      "name": "python3"
    }
  },
  "cells": [
    {
      "cell_type": "markdown",
      "metadata": {
        "id": "view-in-github",
        "colab_type": "text"
      },
      "source": [
        "<a href=\"https://colab.research.google.com/github/mayhd3/NSF-REU-2021/blob/main/GAN.ipynb\" target=\"_parent\"><img src=\"https://colab.research.google.com/assets/colab-badge.svg\" alt=\"Open In Colab\"/></a>"
      ]
    },
    {
      "cell_type": "code",
      "metadata": {
        "colab": {
          "base_uri": "https://localhost:8080/"
        },
        "id": "AbvZ-d105LLW",
        "outputId": "30859127-37ee-40f1-f498-d34a7f6227f2"
      },
      "source": [
        "import os\n",
        "\n",
        "if not os.path.exists('Xtst.csv'):\n",
        "  !gdown --id 1wQDp91LC0PBJvJRBTLw1aW51-UN5JOm8\n",
        "if not os.path.exists('Ytr.csv'):\n",
        "  !gdown --id 1ZhPVjXlOttrYRjSRm_IUBZj-Bokswzbn\n",
        "if not os.path.exists('Ytst.csv'):\n",
        "  !gdown --id 10LE7A7yhNkPlk8Zv3dmBjFYwMW9ZKy9_\n",
        "if not os.path.exists('Xtr.csv'):\n",
        "  !gdown --id 1IUcv_OcLX1YKUB1Xw_lYiBK6bnyLxikS"
      ],
      "execution_count": 2,
      "outputs": [
        {
          "output_type": "stream",
          "text": [
            "Downloading...\n",
            "From: https://drive.google.com/uc?id=1wQDp91LC0PBJvJRBTLw1aW51-UN5JOm8\n",
            "To: /content/Xtst.csv\n",
            "308MB [00:02, 137MB/s]\n",
            "Downloading...\n",
            "From: https://drive.google.com/uc?id=1ZhPVjXlOttrYRjSRm_IUBZj-Bokswzbn\n",
            "To: /content/Ytr.csv\n",
            "25.7MB [00:00, 96.9MB/s]\n",
            "Downloading...\n",
            "From: https://drive.google.com/uc?id=10LE7A7yhNkPlk8Zv3dmBjFYwMW9ZKy9_\n",
            "To: /content/Ytst.csv\n",
            "6.42MB [00:00, 101MB/s]\n",
            "Downloading...\n",
            "From: https://drive.google.com/uc?id=1IUcv_OcLX1YKUB1Xw_lYiBK6bnyLxikS\n",
            "To: /content/Xtr.csv\n",
            "1.23GB [00:11, 104MB/s]\n"
          ],
          "name": "stdout"
        }
      ]
    },
    {
      "cell_type": "code",
      "metadata": {
        "colab": {
          "base_uri": "https://localhost:8080/"
        },
        "id": "oKcJ9_rYIpi5",
        "outputId": "4fc2797c-a30d-44fb-bb19-5cae3635e562"
      },
      "source": [
        "import pandas as pd\n",
        "from keras.models import Sequential\n",
        "from keras.layers import Conv1D, MaxPooling1D, Flatten, Dense\n",
        "from keras.optimizers import Adam\n",
        "from sklearn import preprocessing\n",
        "from keras.utils.np_utils import to_categorical\n",
        "\n",
        "Xtr = pd.read_csv(\"Xtr.csv\", sep=',', header=None)\n",
        "Xtst = pd.read_csv(\"Xtst.csv\", sep=',', header=None)\n",
        "Ytr = pd.read_csv(\"Ytr.csv\", sep=',', header=None)\n",
        "Ytst = pd.read_csv(\"Ytst.csv\", sep=',', header=None)\n",
        "\n",
        "scaler = preprocessing.StandardScaler().fit(Xtr)\n",
        "xtr = scaler.transform(Xtr)  \n",
        "xtst = scaler.transform(Xtst)  \n",
        "\n",
        "xtr = xtr.reshape(xtr.shape[0],xtr.shape[1],1)\n",
        "xtst = xtst.reshape(xtst.shape[0],xtst.shape[1],1)\n",
        "\n",
        "print (\"Number of training samples is: \",xtr.shape[0])\n",
        "print (\"Number of test samples is: \",xtst.shape[0])\n",
        "\n",
        "ytr = to_categorical(Ytr, nb_classes)\n",
        "ytst = to_categorical(Ytst, nb_classes)\n",
        "\n",
        "model = Sequential()\n",
        "model.add(Conv1D(32, kernel_size=7, activation='relu', input_shape=xtr.shape[1:]))\n",
        "model.add(MaxPooling1D(pool_size=2))\n",
        "model.add(Flatten())\n",
        "model.add(Dense(128, activation='relu'))\n",
        "model.add(Dense(256, activation='relu'))\n",
        "model.add(Dense(2, activation='softmax'))    \n",
        "model.compile(loss='categorical_crossentropy', optimizer=Adam(learning_rate=0.001), metrics=['accuracy'])\n",
        "model.fit(xtr, ytr, epochs=150, verbose=2, batch_size=128,validation_split=0.3)  #learning_rte\n",
        "    \n",
        "print(\"Evalutation of best performing model:\")\n",
        "print(best_model.evaluate(xtst, ytst))"
      ],
      "execution_count": null,
      "outputs": [
        {
          "output_type": "stream",
          "text": [
            "Number of training samples is:  1029085\n",
            "Number of test samples is:  256883\n",
            "Epoch 1/150\n",
            "5628/5628 - 59s - loss: 0.2657 - accuracy: 0.8890 - val_loss: 0.3215 - val_accuracy: 0.8790\n",
            "Epoch 2/150\n",
            "5628/5628 - 52s - loss: 0.1750 - accuracy: 0.9318 - val_loss: 0.3196 - val_accuracy: 0.8899\n",
            "Epoch 3/150\n"
          ],
          "name": "stdout"
        }
      ]
    },
    {
      "cell_type": "code",
      "metadata": {
        "id": "3vN_ELwfI2ig"
      },
      "source": [
        ""
      ],
      "execution_count": 4,
      "outputs": []
    }
  ]
}