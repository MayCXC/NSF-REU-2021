{
  "nbformat": 4,
  "nbformat_minor": 0,
  "metadata": {
    "colab": {
      "name": "AMIvisualizations.ipynb",
      "provenance": [],
      "collapsed_sections": [],
      "authorship_tag": "ABX9TyMgNrv+8d+BfJbJ/7nDD1Gu",
      "include_colab_link": true
    },
    "kernelspec": {
      "name": "python3",
      "display_name": "Python 3"
    },
    "language_info": {
      "name": "python"
    }
  },
  "cells": [
    {
      "cell_type": "markdown",
      "metadata": {
        "id": "view-in-github",
        "colab_type": "text"
      },
      "source": [
        "<a href=\"https://colab.research.google.com/github/mayhd3/NSF-REU-2021/blob/main/AMIvisualizations.ipynb\" target=\"_parent\"><img src=\"https://colab.research.google.com/assets/colab-badge.svg\" alt=\"Open In Colab\"/></a>"
      ]
    },
    {
      "cell_type": "code",
      "metadata": {
        "id": "ukIObDvw855E"
      },
      "source": [
        "import os\n",
        "\n",
        "if not os.path.exists('SM-30.csv'):\n",
        "  !gdown --id 1UnP8x_WQ-Aroq8Rz4C1NUSEG9Iul1y7r"
      ],
      "execution_count": null,
      "outputs": []
    },
    {
      "cell_type": "code",
      "metadata": {
        "colab": {
          "base_uri": "https://localhost:8080/"
        },
        "id": "O1K9cDdC-lPN",
        "outputId": "c42d3c1d-4408-45f4-838c-16ba6f8142b1"
      },
      "source": [
        "import pandas as pd\n",
        "sm30 = pd.read_csv('SM-30.csv', header=None, index_col=1)\n",
        "print(sm30)"
      ],
      "execution_count": null,
      "outputs": [
        {
          "output_type": "stream",
          "text": [
            "           0          2           3   ...          48          49          50\n",
            "1                                     ...                                    \n",
            "20160101    1     Friday   12.321833  ...   51.175717  143.252283  137.462967\n",
            "20160102    1   Saturday   50.280717  ...   69.247467   34.006950   13.018783\n",
            "20160103    1     Sunday   18.515583  ...   87.413983   34.309583    8.045783\n",
            "20160104    1     Monday   13.393400  ...   57.762917   59.193917   84.350667\n",
            "20160105    1    Tuesday   87.745500  ...   99.809000   37.494800   62.593817\n",
            "...       ...        ...         ...  ...         ...         ...         ...\n",
            "20161210  114   Saturday   70.341083  ...  103.174867  105.520250   99.261717\n",
            "20161211  114     Sunday  107.108983  ...   78.534017   55.942400   61.001317\n",
            "20161212  114     Monday   69.485367  ...   94.071350   39.962617   71.267533\n",
            "20161213  114    Tuesday   58.695450  ...  114.110617   71.144167   66.459417\n",
            "20161214  114  Wednesday   67.376800  ...   80.857933   60.401817   68.659183\n",
            "\n",
            "[39786 rows x 50 columns]\n"
          ],
          "name": "stdout"
        }
      ]
    }
  ]
}