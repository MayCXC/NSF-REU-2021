{
  "nbformat": 4,
  "nbformat_minor": 0,
  "metadata": {
    "colab": {
      "name": "AMImodels.ipynb",
      "provenance": [],
      "authorship_tag": "ABX9TyO4C9prbVeor0hg81AcDiZh",
      "include_colab_link": true
    },
    "kernelspec": {
      "name": "python3",
      "display_name": "Python 3"
    },
    "language_info": {
      "name": "python"
    }
  },
  "cells": [
    {
      "cell_type": "markdown",
      "metadata": {
        "id": "view-in-github",
        "colab_type": "text"
      },
      "source": [
        "<a href=\"https://colab.research.google.com/github/mayhd3/NSF-REU-2021/blob/main/AMImodels.ipynb\" target=\"_parent\"><img src=\"https://colab.research.google.com/assets/colab-badge.svg\" alt=\"Open In Colab\"/></a>"
      ]
    },
    {
      "cell_type": "code",
      "metadata": {
        "colab": {
          "base_uri": "https://localhost:8080/"
        },
        "id": "w1m5uTTP_xSq",
        "outputId": "89c901b2-43e3-413a-f685-39b065f2328a"
      },
      "source": [
        "import os\n",
        "import pandas as pd\n",
        "\n",
        "if not os.path.exists('full.zip'):\n",
        "  !curl --remote-name -H 'Accept: application/vnd.github.v3.raw' --location 'https://github.com/mayhd3/NSF-REU-2021/raw/main/full.zip'\n",
        "\n",
        "full = pd.read_csv('full.zip')\n",
        "full.columns = range(len(full.columns))\n",
        "print(full)\n",
        "\n",
        "# group dataset by customer\n",
        "groups = full.groupby(2)\n",
        "meters = [groups.get_group(group) for group in groups.groups]"
      ],
      "execution_count": 1,
      "outputs": [
        {
          "output_type": "stream",
          "text": [
            "       0   1    2         3   ...         47         48         49         50\n",
            "0       0   0    1  20160101  ...  41.593667  37.221333  38.499467  51.175717\n",
            "1       0   0    1  20160102  ...  77.312267  59.396183  58.420417  69.247467\n",
            "2       0   0    1  20160103  ...  74.508550  62.454550  47.916017  87.413983\n",
            "3       0   0    1  20160104  ...  57.245617  59.145133  72.321350  57.762917\n",
            "4       0   0    1  20160105  ...  55.368267  66.245233  55.601867  99.809000\n",
            "...    ..  ..  ...       ...  ...        ...        ...        ...        ...\n",
            "79567   1   1  228  20161210  ...   4.873561   3.429628   2.911512   4.280083\n",
            "79568   1   1  228  20161211  ...   4.217476   2.840308   5.403259   3.768587\n",
            "79569   1   1  228  20161212  ...   2.707539   3.863132   2.787403   2.745004\n",
            "79570   1   1  228  20161213  ...   3.045367   3.111105   2.116264   4.023371\n",
            "79571   1   1  228  20161214  ...   5.842780   4.448763   3.460053   4.307783\n",
            "\n",
            "[79572 rows x 51 columns]\n"
          ],
          "name": "stdout"
        }
      ]
    },
    {
      "cell_type": "code",
      "metadata": {
        "colab": {
          "base_uri": "https://localhost:8080/"
        },
        "id": "EYQdiCRGQORX",
        "outputId": "1139d9de-df82-4d94-a5eb-52b6769b8c59"
      },
      "source": [
        "import numpy as np\n",
        "from keras.models import Sequential\n",
        "from keras.layers import Dense, Conv1D, Conv2D, MaxPooling1D, MaxPool2D, Dropout, Flatten\n",
        "from keras.utils import np_utils\n",
        "from scipy.signal import find_peaks\n",
        "from keras.optimizers import Adam, SGD\n",
        "\n",
        "# partition training and testing datasets\n",
        "def bisect_ratio(array, ratio):\n",
        "  return (\n",
        "    [array[i] for i in range(len(array)) if i%ratio == 0],\n",
        "    [array[i] for i in range(len(array)) if i%ratio != 0]\n",
        "  )\n",
        "\n",
        "def bhwc(twod):\n",
        "  return np.expand_dims(np.array(twod), axis=-1).astype('float32')\n",
        "\n",
        "X = [meter.iloc[:,5:].to_numpy().flatten() for meter in meters]\n",
        "y = [np_utils.to_categorical(min(meter.iloc[0,0],1), num_classes=2) for meter in meters]\n",
        "\n",
        "X_test, X_train = (bhwc(x) for x in bisect_ratio(X, 3))\n",
        "y_test, y_train = (np.array(yb) for yb in bisect_ratio(y, 3))\n",
        "\n",
        "model = Sequential()\n",
        "model.add(Conv1D(32, kernel_size=7, activation='relu', input_shape=X_train.shape[1:]))\n",
        "model.add(MaxPooling1D(pool_size=2))\n",
        "model.add(Flatten())\n",
        "model.add(Dense(128, activation='relu'))\n",
        "model.add(Dense(256, activation='relu'))\n",
        "model.add(Dense(2, activation='softmax'))    \n",
        "\n",
        "model.compile(loss='binary_crossentropy', optimizer=Adam(learning_rate=0.001), metrics=['accuracy'])\n",
        "model.fit(X_train, y_train, epochs=52, verbose=2, batch_size=128,validation_split=0.3)\n",
        "print(model.evaluate(X_test, y_test))"
      ],
      "execution_count": 13,
      "outputs": [
        {
          "output_type": "stream",
          "text": [
            "Epoch 1/52\n",
            "WARNING:tensorflow:5 out of the last 13 calls to <function Model.make_test_function.<locals>.test_function at 0x7f3abc3787a0> triggered tf.function retracing. Tracing is expensive and the excessive number of tracings could be due to (1) creating @tf.function repeatedly in a loop, (2) passing tensors with different shapes, (3) passing Python objects instead of tensors. For (1), please define your @tf.function outside of the loop. For (2), @tf.function has experimental_relax_shapes=True option that relaxes argument shapes that can avoid unnecessary retracing. For (3), please refer to https://www.tensorflow.org/guide/function#controlling_retracing and https://www.tensorflow.org/api_docs/python/tf/function for  more details.\n",
            "1/1 - 3s - loss: 1.7667 - accuracy: 0.7264 - val_loss: 663.2472 - val_accuracy: 0.0000e+00\n",
            "Epoch 2/52\n",
            "1/1 - 2s - loss: 848.7089 - accuracy: 0.7170 - val_loss: 1063.4025 - val_accuracy: 0.0000e+00\n",
            "Epoch 3/52\n",
            "1/1 - 2s - loss: 370.0658 - accuracy: 0.7170 - val_loss: 690.8433 - val_accuracy: 0.0000e+00\n",
            "Epoch 4/52\n",
            "1/1 - 1s - loss: 230.8389 - accuracy: 0.7170 - val_loss: 71.9506 - val_accuracy: 0.4348\n",
            "Epoch 5/52\n",
            "1/1 - 1s - loss: 16.3994 - accuracy: 0.8208 - val_loss: 8.6641e-09 - val_accuracy: 1.0000\n",
            "Epoch 6/52\n",
            "1/1 - 1s - loss: 421.3506 - accuracy: 0.2830 - val_loss: 106.4271 - val_accuracy: 0.5217\n",
            "Epoch 7/52\n",
            "1/1 - 1s - loss: 117.4249 - accuracy: 0.8113 - val_loss: 414.8106 - val_accuracy: 0.0000e+00\n",
            "Epoch 8/52\n",
            "1/1 - 1s - loss: 133.3101 - accuracy: 0.7170 - val_loss: 562.5873 - val_accuracy: 0.0000e+00\n",
            "Epoch 9/52\n",
            "1/1 - 1s - loss: 184.8921 - accuracy: 0.7170 - val_loss: 540.0738 - val_accuracy: 0.0000e+00\n",
            "Epoch 10/52\n",
            "1/1 - 1s - loss: 176.5121 - accuracy: 0.7170 - val_loss: 422.2856 - val_accuracy: 0.0000e+00\n",
            "Epoch 11/52\n",
            "1/1 - 1s - loss: 132.8449 - accuracy: 0.7170 - val_loss: 226.8795 - val_accuracy: 0.0000e+00\n",
            "Epoch 12/52\n",
            "1/1 - 1s - loss: 62.0524 - accuracy: 0.7264 - val_loss: 65.2176 - val_accuracy: 0.6957\n",
            "Epoch 13/52\n",
            "1/1 - 1s - loss: 88.4287 - accuracy: 0.7547 - val_loss: 6.2851 - val_accuracy: 0.9565\n",
            "Epoch 14/52\n",
            "1/1 - 1s - loss: 78.8329 - accuracy: 0.3774 - val_loss: 38.4138 - val_accuracy: 0.5870\n",
            "Epoch 15/52\n",
            "1/1 - 1s - loss: 14.3434 - accuracy: 0.8113 - val_loss: 138.8161 - val_accuracy: 0.2391\n",
            "Epoch 16/52\n",
            "1/1 - 1s - loss: 30.8930 - accuracy: 0.8019 - val_loss: 211.1533 - val_accuracy: 0.0870\n",
            "Epoch 17/52\n",
            "1/1 - 1s - loss: 51.5296 - accuracy: 0.7358 - val_loss: 232.0282 - val_accuracy: 0.0435\n",
            "Epoch 18/52\n",
            "1/1 - 1s - loss: 57.3663 - accuracy: 0.7358 - val_loss: 208.5845 - val_accuracy: 0.0870\n",
            "Epoch 19/52\n",
            "1/1 - 1s - loss: 49.9555 - accuracy: 0.7358 - val_loss: 159.3632 - val_accuracy: 0.2391\n",
            "Epoch 20/52\n",
            "1/1 - 1s - loss: 38.3317 - accuracy: 0.8113 - val_loss: 106.2618 - val_accuracy: 0.3913\n",
            "Epoch 21/52\n",
            "1/1 - 1s - loss: 24.1595 - accuracy: 0.8208 - val_loss: 60.6694 - val_accuracy: 0.5435\n",
            "Epoch 22/52\n",
            "1/1 - 1s - loss: 12.0854 - accuracy: 0.8396 - val_loss: 39.6351 - val_accuracy: 0.6087\n",
            "Epoch 23/52\n",
            "1/1 - 1s - loss: 13.3519 - accuracy: 0.8113 - val_loss: 49.8819 - val_accuracy: 0.5870\n",
            "Epoch 24/52\n",
            "1/1 - 1s - loss: 20.4843 - accuracy: 0.8113 - val_loss: 68.7810 - val_accuracy: 0.5435\n",
            "Epoch 25/52\n",
            "1/1 - 1s - loss: 24.6561 - accuracy: 0.8585 - val_loss: 87.5182 - val_accuracy: 0.4130\n",
            "Epoch 26/52\n",
            "1/1 - 1s - loss: 21.5101 - accuracy: 0.8396 - val_loss: 104.0469 - val_accuracy: 0.3913\n",
            "Epoch 27/52\n",
            "1/1 - 1s - loss: 15.0956 - accuracy: 0.8302 - val_loss: 114.8995 - val_accuracy: 0.3478\n",
            "Epoch 28/52\n",
            "1/1 - 1s - loss: 11.3894 - accuracy: 0.8396 - val_loss: 109.1691 - val_accuracy: 0.3696\n",
            "Epoch 29/52\n",
            "1/1 - 1s - loss: 8.3827 - accuracy: 0.8396 - val_loss: 87.1825 - val_accuracy: 0.4130\n",
            "Epoch 30/52\n",
            "1/1 - 1s - loss: 8.1198 - accuracy: 0.8585 - val_loss: 69.4807 - val_accuracy: 0.5000\n",
            "Epoch 31/52\n",
            "1/1 - 1s - loss: 10.4732 - accuracy: 0.8585 - val_loss: 57.3756 - val_accuracy: 0.5435\n",
            "Epoch 32/52\n",
            "1/1 - 1s - loss: 10.2542 - accuracy: 0.8396 - val_loss: 57.8125 - val_accuracy: 0.5217\n",
            "Epoch 33/52\n",
            "1/1 - 1s - loss: 7.0545 - accuracy: 0.8302 - val_loss: 75.5272 - val_accuracy: 0.3913\n",
            "Epoch 34/52\n",
            "1/1 - 1s - loss: 1.8869 - accuracy: 0.8679 - val_loss: 96.6556 - val_accuracy: 0.3696\n",
            "Epoch 35/52\n",
            "1/1 - 1s - loss: 5.5771 - accuracy: 0.8585 - val_loss: 101.8072 - val_accuracy: 0.3696\n",
            "Epoch 36/52\n",
            "1/1 - 1s - loss: 7.0924 - accuracy: 0.8491 - val_loss: 94.2186 - val_accuracy: 0.3696\n",
            "Epoch 37/52\n",
            "1/1 - 1s - loss: 6.5342 - accuracy: 0.8679 - val_loss: 82.6184 - val_accuracy: 0.3696\n",
            "Epoch 38/52\n",
            "1/1 - 1s - loss: 4.5862 - accuracy: 0.9151 - val_loss: 72.0465 - val_accuracy: 0.4130\n",
            "Epoch 39/52\n",
            "1/1 - 1s - loss: 1.8463 - accuracy: 0.8585 - val_loss: 72.2605 - val_accuracy: 0.4130\n",
            "Epoch 40/52\n",
            "1/1 - 1s - loss: 3.3006 - accuracy: 0.8868 - val_loss: 77.7288 - val_accuracy: 0.3913\n",
            "Epoch 41/52\n",
            "1/1 - 1s - loss: 4.6795 - accuracy: 0.9057 - val_loss: 81.3092 - val_accuracy: 0.3913\n",
            "Epoch 42/52\n",
            "1/1 - 1s - loss: 3.1614 - accuracy: 0.9340 - val_loss: 83.1235 - val_accuracy: 0.3913\n",
            "Epoch 43/52\n",
            "1/1 - 1s - loss: 0.6812 - accuracy: 0.9151 - val_loss: 81.7087 - val_accuracy: 0.3913\n",
            "Epoch 44/52\n",
            "1/1 - 1s - loss: 2.8003 - accuracy: 0.9340 - val_loss: 78.7010 - val_accuracy: 0.3913\n",
            "Epoch 45/52\n",
            "1/1 - 1s - loss: 3.6176 - accuracy: 0.9245 - val_loss: 75.3481 - val_accuracy: 0.3913\n",
            "Epoch 46/52\n",
            "1/1 - 1s - loss: 2.0267 - accuracy: 0.9057 - val_loss: 77.3295 - val_accuracy: 0.3913\n",
            "Epoch 47/52\n",
            "1/1 - 1s - loss: 1.1153 - accuracy: 0.9057 - val_loss: 86.8543 - val_accuracy: 0.3913\n",
            "Epoch 48/52\n",
            "1/1 - 1s - loss: 2.2316 - accuracy: 0.9057 - val_loss: 90.0483 - val_accuracy: 0.3696\n",
            "Epoch 49/52\n",
            "1/1 - 1s - loss: 2.7409 - accuracy: 0.8868 - val_loss: 86.0631 - val_accuracy: 0.3913\n",
            "Epoch 50/52\n",
            "1/1 - 1s - loss: 1.1767 - accuracy: 0.9151 - val_loss: 74.3026 - val_accuracy: 0.3913\n",
            "Epoch 51/52\n",
            "1/1 - 1s - loss: 0.7894 - accuracy: 0.9057 - val_loss: 71.6440 - val_accuracy: 0.4130\n",
            "Epoch 52/52\n",
            "1/1 - 1s - loss: 1.9102 - accuracy: 0.9057 - val_loss: 76.0197 - val_accuracy: 0.3913\n",
            "3/3 [==============================] - 0s 92ms/step - loss: 60.2397 - accuracy: 0.5658\n",
            "[60.23969650268555, 0.5657894611358643]\n"
          ],
          "name": "stdout"
        }
      ]
    },
    {
      "cell_type": "code",
      "metadata": {
        "colab": {
          "base_uri": "https://localhost:8080/",
          "height": 578
        },
        "id": "NXk-FDqTASVq",
        "outputId": "e65a2f0b-6e28-4341-a391-e6276efe8b5c"
      },
      "source": [
        "# cnn input is a 2D array of semi hourly consumption by week\n",
        "X0 = [meter.iloc[:,5:].to_numpy() for meter in meters]\n",
        "y0 = [{0: [0,0], 1: [0,1], 2:[1,0], 3:[1,1]}[meter.iloc[0,0]] for meter in meters]\n",
        "\n",
        "X0_test, X0_train = bisect_ratio(X0, 3) # (bhwc(X) for X in )\n",
        "X0_test = bhwc(X0_test)\n",
        "X0_train = bhwc(X0_train)\n",
        "y0_test, y0_train = (np.array(y) for y in bisect_ratio(y0, 3))\n",
        "\n",
        "# cnn structure is (conv -> pool) x3 -> flatten -> dense -> dropout -> dense -> softmax\n",
        "cnn = Sequential()\n",
        "cnn.add(Conv2D(32, (5,5), input_shape=X0_train.shape[1:], activation='relu'))\n",
        "cnn.add(MaxPool2D(pool_size=(2,2)))\n",
        "cnn.add(Conv2D(32,(3,3),activation='relu'))\n",
        "#cnn.add(MaxPool2D(pool_size=(2,2)))\n",
        "cnn.add(Flatten())\n",
        "cnn.add(Dense(128, activation='relu'))\n",
        "cnn.add(Dropout(0.125))\n",
        "cnn.add(Dense(32, activation='relu'))\n",
        "cnn.add(Dense(2, activation='softmax'))\n",
        "\n",
        "cnn.compile(loss='categorical_crossentropy', optimizer=Adam(learning_rate=2**-8), metrics=['accuracy'])\n",
        "cnn.fit(X0_train, y0_train, epochs=52)\n",
        "print(cnn.evaluate(X0_test, y0_test))"
      ],
      "execution_count": 23,
      "outputs": [
        {
          "output_type": "stream",
          "text": [
            "Epoch 1/52\n",
            "5/5 [==============================] - 4s 538ms/step - loss: 423.6820 - accuracy: 0.4603\n",
            "Epoch 2/52\n",
            "5/5 [==============================] - 3s 539ms/step - loss: 3.1330 - accuracy: 0.3143\n",
            "Epoch 3/52\n",
            "5/5 [==============================] - 3s 530ms/step - loss: 19.9021 - accuracy: 0.6168\n",
            "Epoch 4/52\n",
            "5/5 [==============================] - 3s 525ms/step - loss: 102.6744 - accuracy: 0.5502\n",
            "Epoch 5/52\n",
            "5/5 [==============================] - 3s 527ms/step - loss: 472.4537 - accuracy: 0.6239\n",
            "Epoch 6/52\n",
            "5/5 [==============================] - 3s 529ms/step - loss: 1173.0568 - accuracy: 0.3503\n",
            "Epoch 7/52\n"
          ],
          "name": "stdout"
        },
        {
          "output_type": "error",
          "ename": "KeyboardInterrupt",
          "evalue": "ignored",
          "traceback": [
            "\u001b[0;31m---------------------------------------------------------------------------\u001b[0m",
            "\u001b[0;31mKeyboardInterrupt\u001b[0m                         Traceback (most recent call last)",
            "\u001b[0;32m<ipython-input-23-22d72f929506>\u001b[0m in \u001b[0;36m<module>\u001b[0;34m()\u001b[0m\n\u001b[1;32m     21\u001b[0m \u001b[0;34m\u001b[0m\u001b[0m\n\u001b[1;32m     22\u001b[0m \u001b[0mcnn\u001b[0m\u001b[0;34m.\u001b[0m\u001b[0mcompile\u001b[0m\u001b[0;34m(\u001b[0m\u001b[0mloss\u001b[0m\u001b[0;34m=\u001b[0m\u001b[0;34m'categorical_crossentropy'\u001b[0m\u001b[0;34m,\u001b[0m \u001b[0moptimizer\u001b[0m\u001b[0;34m=\u001b[0m\u001b[0mAdam\u001b[0m\u001b[0;34m(\u001b[0m\u001b[0mlearning_rate\u001b[0m\u001b[0;34m=\u001b[0m\u001b[0;36m2\u001b[0m\u001b[0;34m**\u001b[0m\u001b[0;34m-\u001b[0m\u001b[0;36m8\u001b[0m\u001b[0;34m)\u001b[0m\u001b[0;34m,\u001b[0m \u001b[0mmetrics\u001b[0m\u001b[0;34m=\u001b[0m\u001b[0;34m[\u001b[0m\u001b[0;34m'accuracy'\u001b[0m\u001b[0;34m]\u001b[0m\u001b[0;34m)\u001b[0m\u001b[0;34m\u001b[0m\u001b[0;34m\u001b[0m\u001b[0m\n\u001b[0;32m---> 23\u001b[0;31m \u001b[0mcnn\u001b[0m\u001b[0;34m.\u001b[0m\u001b[0mfit\u001b[0m\u001b[0;34m(\u001b[0m\u001b[0mX0_train\u001b[0m\u001b[0;34m,\u001b[0m \u001b[0my0_train\u001b[0m\u001b[0;34m,\u001b[0m \u001b[0mepochs\u001b[0m\u001b[0;34m=\u001b[0m\u001b[0;36m52\u001b[0m\u001b[0;34m)\u001b[0m\u001b[0;34m\u001b[0m\u001b[0;34m\u001b[0m\u001b[0m\n\u001b[0m\u001b[1;32m     24\u001b[0m \u001b[0mprint\u001b[0m\u001b[0;34m(\u001b[0m\u001b[0mcnn\u001b[0m\u001b[0;34m.\u001b[0m\u001b[0mevaluate\u001b[0m\u001b[0;34m(\u001b[0m\u001b[0mX0_test\u001b[0m\u001b[0;34m,\u001b[0m \u001b[0my0_test\u001b[0m\u001b[0;34m)\u001b[0m\u001b[0;34m)\u001b[0m\u001b[0;34m\u001b[0m\u001b[0;34m\u001b[0m\u001b[0m\n",
            "\u001b[0;32m/usr/local/lib/python3.7/dist-packages/keras/engine/training.py\u001b[0m in \u001b[0;36mfit\u001b[0;34m(self, x, y, batch_size, epochs, verbose, callbacks, validation_split, validation_data, shuffle, class_weight, sample_weight, initial_epoch, steps_per_epoch, validation_steps, validation_batch_size, validation_freq, max_queue_size, workers, use_multiprocessing)\u001b[0m\n\u001b[1;32m   1156\u001b[0m                 _r=1):\n\u001b[1;32m   1157\u001b[0m               \u001b[0mcallbacks\u001b[0m\u001b[0;34m.\u001b[0m\u001b[0mon_train_batch_begin\u001b[0m\u001b[0;34m(\u001b[0m\u001b[0mstep\u001b[0m\u001b[0;34m)\u001b[0m\u001b[0;34m\u001b[0m\u001b[0;34m\u001b[0m\u001b[0m\n\u001b[0;32m-> 1158\u001b[0;31m               \u001b[0mtmp_logs\u001b[0m \u001b[0;34m=\u001b[0m \u001b[0mself\u001b[0m\u001b[0;34m.\u001b[0m\u001b[0mtrain_function\u001b[0m\u001b[0;34m(\u001b[0m\u001b[0miterator\u001b[0m\u001b[0;34m)\u001b[0m\u001b[0;34m\u001b[0m\u001b[0;34m\u001b[0m\u001b[0m\n\u001b[0m\u001b[1;32m   1159\u001b[0m               \u001b[0;32mif\u001b[0m \u001b[0mdata_handler\u001b[0m\u001b[0;34m.\u001b[0m\u001b[0mshould_sync\u001b[0m\u001b[0;34m:\u001b[0m\u001b[0;34m\u001b[0m\u001b[0;34m\u001b[0m\u001b[0m\n\u001b[1;32m   1160\u001b[0m                 \u001b[0mcontext\u001b[0m\u001b[0;34m.\u001b[0m\u001b[0masync_wait\u001b[0m\u001b[0;34m(\u001b[0m\u001b[0;34m)\u001b[0m\u001b[0;34m\u001b[0m\u001b[0;34m\u001b[0m\u001b[0m\n",
            "\u001b[0;32m/usr/local/lib/python3.7/dist-packages/tensorflow/python/eager/def_function.py\u001b[0m in \u001b[0;36m__call__\u001b[0;34m(self, *args, **kwds)\u001b[0m\n\u001b[1;32m    887\u001b[0m \u001b[0;34m\u001b[0m\u001b[0m\n\u001b[1;32m    888\u001b[0m       \u001b[0;32mwith\u001b[0m \u001b[0mOptionalXlaContext\u001b[0m\u001b[0;34m(\u001b[0m\u001b[0mself\u001b[0m\u001b[0;34m.\u001b[0m\u001b[0m_jit_compile\u001b[0m\u001b[0;34m)\u001b[0m\u001b[0;34m:\u001b[0m\u001b[0;34m\u001b[0m\u001b[0;34m\u001b[0m\u001b[0m\n\u001b[0;32m--> 889\u001b[0;31m         \u001b[0mresult\u001b[0m \u001b[0;34m=\u001b[0m \u001b[0mself\u001b[0m\u001b[0;34m.\u001b[0m\u001b[0m_call\u001b[0m\u001b[0;34m(\u001b[0m\u001b[0;34m*\u001b[0m\u001b[0margs\u001b[0m\u001b[0;34m,\u001b[0m \u001b[0;34m**\u001b[0m\u001b[0mkwds\u001b[0m\u001b[0;34m)\u001b[0m\u001b[0;34m\u001b[0m\u001b[0;34m\u001b[0m\u001b[0m\n\u001b[0m\u001b[1;32m    890\u001b[0m \u001b[0;34m\u001b[0m\u001b[0m\n\u001b[1;32m    891\u001b[0m       \u001b[0mnew_tracing_count\u001b[0m \u001b[0;34m=\u001b[0m \u001b[0mself\u001b[0m\u001b[0;34m.\u001b[0m\u001b[0mexperimental_get_tracing_count\u001b[0m\u001b[0;34m(\u001b[0m\u001b[0;34m)\u001b[0m\u001b[0;34m\u001b[0m\u001b[0;34m\u001b[0m\u001b[0m\n",
            "\u001b[0;32m/usr/local/lib/python3.7/dist-packages/tensorflow/python/eager/def_function.py\u001b[0m in \u001b[0;36m_call\u001b[0;34m(self, *args, **kwds)\u001b[0m\n\u001b[1;32m    915\u001b[0m       \u001b[0;31m# In this case we have created variables on the first call, so we run the\u001b[0m\u001b[0;34m\u001b[0m\u001b[0;34m\u001b[0m\u001b[0;34m\u001b[0m\u001b[0m\n\u001b[1;32m    916\u001b[0m       \u001b[0;31m# defunned version which is guaranteed to never create variables.\u001b[0m\u001b[0;34m\u001b[0m\u001b[0;34m\u001b[0m\u001b[0;34m\u001b[0m\u001b[0m\n\u001b[0;32m--> 917\u001b[0;31m       \u001b[0;32mreturn\u001b[0m \u001b[0mself\u001b[0m\u001b[0;34m.\u001b[0m\u001b[0m_stateless_fn\u001b[0m\u001b[0;34m(\u001b[0m\u001b[0;34m*\u001b[0m\u001b[0margs\u001b[0m\u001b[0;34m,\u001b[0m \u001b[0;34m**\u001b[0m\u001b[0mkwds\u001b[0m\u001b[0;34m)\u001b[0m  \u001b[0;31m# pylint: disable=not-callable\u001b[0m\u001b[0;34m\u001b[0m\u001b[0;34m\u001b[0m\u001b[0m\n\u001b[0m\u001b[1;32m    918\u001b[0m     \u001b[0;32melif\u001b[0m \u001b[0mself\u001b[0m\u001b[0;34m.\u001b[0m\u001b[0m_stateful_fn\u001b[0m \u001b[0;32mis\u001b[0m \u001b[0;32mnot\u001b[0m \u001b[0;32mNone\u001b[0m\u001b[0;34m:\u001b[0m\u001b[0;34m\u001b[0m\u001b[0;34m\u001b[0m\u001b[0m\n\u001b[1;32m    919\u001b[0m       \u001b[0;31m# Release the lock early so that multiple threads can perform the call\u001b[0m\u001b[0;34m\u001b[0m\u001b[0;34m\u001b[0m\u001b[0;34m\u001b[0m\u001b[0m\n",
            "\u001b[0;32m/usr/local/lib/python3.7/dist-packages/tensorflow/python/eager/function.py\u001b[0m in \u001b[0;36m__call__\u001b[0;34m(self, *args, **kwargs)\u001b[0m\n\u001b[1;32m   3022\u001b[0m        filtered_flat_args) = self._maybe_define_function(args, kwargs)\n\u001b[1;32m   3023\u001b[0m     return graph_function._call_flat(\n\u001b[0;32m-> 3024\u001b[0;31m         filtered_flat_args, captured_inputs=graph_function.captured_inputs)  # pylint: disable=protected-access\n\u001b[0m\u001b[1;32m   3025\u001b[0m \u001b[0;34m\u001b[0m\u001b[0m\n\u001b[1;32m   3026\u001b[0m   \u001b[0;34m@\u001b[0m\u001b[0mproperty\u001b[0m\u001b[0;34m\u001b[0m\u001b[0;34m\u001b[0m\u001b[0m\n",
            "\u001b[0;32m/usr/local/lib/python3.7/dist-packages/tensorflow/python/eager/function.py\u001b[0m in \u001b[0;36m_call_flat\u001b[0;34m(self, args, captured_inputs, cancellation_manager)\u001b[0m\n\u001b[1;32m   1959\u001b[0m       \u001b[0;31m# No tape is watching; skip to running the function.\u001b[0m\u001b[0;34m\u001b[0m\u001b[0;34m\u001b[0m\u001b[0;34m\u001b[0m\u001b[0m\n\u001b[1;32m   1960\u001b[0m       return self._build_call_outputs(self._inference_function.call(\n\u001b[0;32m-> 1961\u001b[0;31m           ctx, args, cancellation_manager=cancellation_manager))\n\u001b[0m\u001b[1;32m   1962\u001b[0m     forward_backward = self._select_forward_and_backward_functions(\n\u001b[1;32m   1963\u001b[0m         \u001b[0margs\u001b[0m\u001b[0;34m,\u001b[0m\u001b[0;34m\u001b[0m\u001b[0;34m\u001b[0m\u001b[0m\n",
            "\u001b[0;32m/usr/local/lib/python3.7/dist-packages/tensorflow/python/eager/function.py\u001b[0m in \u001b[0;36mcall\u001b[0;34m(self, ctx, args, cancellation_manager)\u001b[0m\n\u001b[1;32m    594\u001b[0m               \u001b[0minputs\u001b[0m\u001b[0;34m=\u001b[0m\u001b[0margs\u001b[0m\u001b[0;34m,\u001b[0m\u001b[0;34m\u001b[0m\u001b[0;34m\u001b[0m\u001b[0m\n\u001b[1;32m    595\u001b[0m               \u001b[0mattrs\u001b[0m\u001b[0;34m=\u001b[0m\u001b[0mattrs\u001b[0m\u001b[0;34m,\u001b[0m\u001b[0;34m\u001b[0m\u001b[0;34m\u001b[0m\u001b[0m\n\u001b[0;32m--> 596\u001b[0;31m               ctx=ctx)\n\u001b[0m\u001b[1;32m    597\u001b[0m         \u001b[0;32melse\u001b[0m\u001b[0;34m:\u001b[0m\u001b[0;34m\u001b[0m\u001b[0;34m\u001b[0m\u001b[0m\n\u001b[1;32m    598\u001b[0m           outputs = execute.execute_with_cancellation(\n",
            "\u001b[0;32m/usr/local/lib/python3.7/dist-packages/tensorflow/python/eager/execute.py\u001b[0m in \u001b[0;36mquick_execute\u001b[0;34m(op_name, num_outputs, inputs, attrs, ctx, name)\u001b[0m\n\u001b[1;32m     58\u001b[0m     \u001b[0mctx\u001b[0m\u001b[0;34m.\u001b[0m\u001b[0mensure_initialized\u001b[0m\u001b[0;34m(\u001b[0m\u001b[0;34m)\u001b[0m\u001b[0;34m\u001b[0m\u001b[0;34m\u001b[0m\u001b[0m\n\u001b[1;32m     59\u001b[0m     tensors = pywrap_tfe.TFE_Py_Execute(ctx._handle, device_name, op_name,\n\u001b[0;32m---> 60\u001b[0;31m                                         inputs, attrs, num_outputs)\n\u001b[0m\u001b[1;32m     61\u001b[0m   \u001b[0;32mexcept\u001b[0m \u001b[0mcore\u001b[0m\u001b[0;34m.\u001b[0m\u001b[0m_NotOkStatusException\u001b[0m \u001b[0;32mas\u001b[0m \u001b[0me\u001b[0m\u001b[0;34m:\u001b[0m\u001b[0;34m\u001b[0m\u001b[0;34m\u001b[0m\u001b[0m\n\u001b[1;32m     62\u001b[0m     \u001b[0;32mif\u001b[0m \u001b[0mname\u001b[0m \u001b[0;32mis\u001b[0m \u001b[0;32mnot\u001b[0m \u001b[0;32mNone\u001b[0m\u001b[0;34m:\u001b[0m\u001b[0;34m\u001b[0m\u001b[0;34m\u001b[0m\u001b[0m\n",
            "\u001b[0;31mKeyboardInterrupt\u001b[0m: "
          ]
        }
      ]
    },
    {
      "cell_type": "code",
      "metadata": {
        "id": "q9l5keRKx795"
      },
      "source": [
        "# fnn input is a 1D array of consumption over the year\n",
        "X1 = [x.flatten() for x in X0]\n",
        "y1 = [meter[1].to_numpy() for meter in meters]\n",
        "\n",
        "# rnn input is a time series between consumption minima and maxima\n",
        "X2 = [np.diff(find_peaks(np.mean(x, axis=1))[0]) for x in X0]\n",
        "y2 = [y != 0 for y in y0]"
      ],
      "execution_count": 4,
      "outputs": []
    },
    {
      "cell_type": "code",
      "metadata": {
        "colab": {
          "base_uri": "https://localhost:8080/"
        },
        "id": "sHCgzHLS-eF_",
        "outputId": "2f8b071d-9371-44cb-fec4-2138085fe7f4"
      },
      "source": [
        "print(2**-10)"
      ],
      "execution_count": 10,
      "outputs": [
        {
          "output_type": "stream",
          "text": [
            "0.0009765625\n"
          ],
          "name": "stdout"
        }
      ]
    }
  ]
}