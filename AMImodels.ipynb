{
  "nbformat": 4,
  "nbformat_minor": 0,
  "metadata": {
    "colab": {
      "name": "AMImodels.ipynb",
      "provenance": [],
      "authorship_tag": "ABX9TyPeSEnI6y8tXxVYMa0p2Wmy",
      "include_colab_link": true
    },
    "kernelspec": {
      "name": "python3",
      "display_name": "Python 3"
    },
    "language_info": {
      "name": "python"
    }
  },
  "cells": [
    {
      "cell_type": "markdown",
      "metadata": {
        "id": "view-in-github",
        "colab_type": "text"
      },
      "source": [
        "<a href=\"https://colab.research.google.com/github/mayhd3/NSF-REU-2021/blob/main/AMImodels.ipynb\" target=\"_parent\"><img src=\"https://colab.research.google.com/assets/colab-badge.svg\" alt=\"Open In Colab\"/></a>"
      ]
    },
    {
      "cell_type": "code",
      "metadata": {
        "id": "w1m5uTTP_xSq"
      },
      "source": [
        "from keras.models import Sequential\n",
        "from keras.layers import Dense, Conv2D, MaxPool2D, Dropout, Flatten\n",
        "from keras.utils import np_utils\n",
        "from scipy.signal import find_peaks\n",
        "\n",
        "try:\n",
        "  full\n",
        "except NameError:\n",
        "  if os.path.exists('full.pickle'):\n",
        "    with open('full.pickle','rb') as pk:\n",
        "      full = pickle.load(pk)\n",
        "\n",
        "# group dataset by customer\n",
        "groups = full.groupby(2)\n",
        "meters = [groups.get_group(group) for group in groups.groups]\n",
        "\n",
        "# cnn input is a 2D array of semi hourly consumption by week\n",
        "X0 = [meter.iloc[:,5:].to_numpy() for meter in meters]\n",
        "y0 = [\n",
        "  {0: [0,0], 1: [0,1], 2:[1,0], 3:[1,1]}[meter.iloc[0,0]]\n",
        "    for meter in meters\n",
        "]\n",
        "\n",
        "# fnn input is a 1D array of consumption over the year\n",
        "X1 = [x.flatten() for x in X0]\n",
        "y1 = [meter[1].to_numpy() for meter in meters]\n",
        "\n",
        "# rnn input is a time series between consumption minima and maxima\n",
        "X2 = [np.diff(find_peaks(np.mean(x, axis=1))[0]) for x in X0]\n",
        "y2 = [y != 0 for y in y0]\n",
        "\n",
        "def bhwc(twod):\n",
        "  return np.expand_dims(np.array(twod), axis=-1).astype('float32')\n",
        "\n",
        "# partition training and testing datasets\n",
        "def periodic_partition(array, ratio):\n",
        "  return (\n",
        "    [array[i] for i in range(len(array)) if i%ratio == 0],\n",
        "    [array[i] for i in range(len(array)) if i%ratio != 0]\n",
        "  )\n",
        "\n",
        "X0_test, X0_train = (bhwc(X) for X in periodic_partition(X0, 3))\n",
        "y0_test, y0_train = (np.array(y) for y in periodic_partition(y0, 3))\n",
        "\n",
        "# cnn structure is (conv -> pool) x3 -> dropout -> dense x2\n",
        "cnn = Sequential()\n",
        "cnn.add(Conv2D(32, (3,3), input_shape=X0_train.shape[1:], activation='relu'))\n",
        "#cnn.add(Conv2D(32,(4,4),input_shape=X0_train.shape, activation='relu'))\n",
        "#cnn.add(MaxPool2D(pool_size=2))\n",
        "#cnn.add(Conv2D(64,(26,26),activation='relu'))\n",
        "#cnn.add(MaxPool2D(pool_size=2))\n",
        "#cnn.add(Conv2D(128,(9,9),activation='relu'))\n",
        "#cnn.add(MaxPool2D(pool_size=2))\n",
        "#cnn.add(Dropout(0.0625))\n",
        "cnn.add(Flatten())\n",
        "#cnn.add(Dense(128, activation='relu'))\n",
        "cnn.add(Dense(32, activation='relu'))\n",
        "cnn.add(Dense(2, activation='softmax'))\n",
        "\n",
        "cnn.compile(\n",
        "  loss='categorical_crossentropy',\n",
        "  optimizer='adam',\n",
        "  metrics=['accuracy']\n",
        ")\n",
        "\n",
        "cnn.fit(\n",
        "    X0_train,\n",
        "    y0_train,\n",
        "    epochs=52,\n",
        "    batch_size=38\n",
        ")\n",
        "cnn.evaluate(X0_test, y0_test, verbose=2)"
      ],
      "execution_count": null,
      "outputs": []
    }
  ]
}